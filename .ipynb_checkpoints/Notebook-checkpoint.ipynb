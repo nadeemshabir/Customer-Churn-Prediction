{
 "cells": [
  {
   "cell_type": "code",
   "execution_count": 2,
   "id": "1e70c782-7427-42e6-a045-f1669325dd73",
   "metadata": {},
   "outputs": [
    {
     "ename": "ModuleNotFoundError",
     "evalue": "No module named 'pandas'",
     "output_type": "error",
     "traceback": [
      "\u001b[1;31m---------------------------------------------------------------------------\u001b[0m",
      "\u001b[1;31mModuleNotFoundError\u001b[0m                       Traceback (most recent call last)",
      "Cell \u001b[1;32mIn[2], line 1\u001b[0m\n\u001b[1;32m----> 1\u001b[0m \u001b[38;5;28;01mimport\u001b[39;00m \u001b[38;5;21;01mpandas\u001b[39;00m \u001b[38;5;28;01mas\u001b[39;00m \u001b[38;5;21;01mpd\u001b[39;00m\n",
      "\u001b[1;31mModuleNotFoundError\u001b[0m: No module named 'pandas'"
     ]
    }
   ],
   "source": [
    "import pandas as pd"
   ]
  },
  {
   "cell_type": "code",
   "execution_count": null,
   "id": "e837d688-2de0-4b99-a7b6-feedf2a9ca85",
   "metadata": {},
   "outputs": [],
   "source": [
    "df=pd.read_csv('customer_churn_data.csv')"
   ]
  },
  {
   "cell_type": "code",
   "execution_count": null,
   "id": "8d9179b8-8f6d-4375-91bf-74e6a69f106c",
   "metadata": {},
   "outputs": [],
   "source": [
    "df.head()"
   ]
  },
  {
   "cell_type": "code",
   "execution_count": null,
   "id": "527ac3d8-38d0-4d7d-b975-23d58e894a1e",
   "metadata": {},
   "outputs": [],
   "source": [
    "df.info()"
   ]
  },
  {
   "cell_type": "code",
   "execution_count": null,
   "id": "6b10bd27-cde8-41e2-b962-f5fda231098d",
   "metadata": {},
   "outputs": [],
   "source": [
    "df.isna().sum()"
   ]
  },
  {
   "cell_type": "code",
   "execution_count": null,
   "id": "d35c852f-39ca-42e2-bf90-a3e5a0bfff89",
   "metadata": {},
   "outputs": [],
   "source": [
    "df['InternetService']= df['InternetService'].fillna(\"\")"
   ]
  },
  {
   "cell_type": "code",
   "execution_count": null,
   "id": "354fa66c-b772-44d3-899f-585288f7a82e",
   "metadata": {},
   "outputs": [],
   "source": [
    "df.isna().sum()"
   ]
  },
  {
   "cell_type": "code",
   "execution_count": null,
   "id": "7f58ccd0-6bc5-4425-953a-a6f79d7cf965",
   "metadata": {},
   "outputs": [],
   "source": [
    "df.duplicated().sum()"
   ]
  },
  {
   "cell_type": "code",
   "execution_count": null,
   "id": "923d3054-ee03-4946-a3c3-dba6ee8e1e88",
   "metadata": {},
   "outputs": [],
   "source": [
    "df.describe()"
   ]
  },
  {
   "cell_type": "code",
   "execution_count": null,
   "id": "0f791f62-7ca8-4341-a267-e41b70c7f9c9",
   "metadata": {},
   "outputs": [],
   "source": [
    "import matplotlib.pyplot as plt"
   ]
  },
  {
   "cell_type": "code",
   "execution_count": null,
   "id": "6130770f-f948-4f40-add9-19af3f859689",
   "metadata": {},
   "outputs": [],
   "source": [
    "df['Churn'].value_counts().plot(kind='pie')\n",
    "plt.title(\"Churn (yes/no)\")"
   ]
  },
  {
   "cell_type": "code",
   "execution_count": null,
   "id": "d013d1f5-36e0-46f9-ae30-5e7a8ba5dd5c",
   "metadata": {},
   "outputs": [],
   "source": [
    "df.groupby(\"Churn\")['MonthlyCharges'].mean()"
   ]
  },
  {
   "cell_type": "code",
   "execution_count": null,
   "id": "c2817c7d-ce88-417a-be4b-027056cb2be6",
   "metadata": {},
   "outputs": [],
   "source": [
    "df.groupby([\"Churn\",\"Gender\"])['MonthlyCharges'].mean()"
   ]
  },
  {
   "cell_type": "code",
   "execution_count": null,
   "id": "ba027818-f85f-4ac3-97cd-b33550e4f1cd",
   "metadata": {},
   "outputs": [],
   "source": [
    "df.groupby(\"ContractType\")['MonthlyCharges'].mean().plot(kind=\"bar\")\n",
    "plt.xlabel(\"ContractType\")\n",
    "plt.ylabel(\"MonthlyCharge\")\n",
    "plt.title(\"ContractType vs MonthlyCharge\")"
   ]
  },
  {
   "cell_type": "code",
   "execution_count": null,
   "id": "e16b81b5-898b-406b-83f1-cfb8bfc786c6",
   "metadata": {},
   "outputs": [],
   "source": [
    "plt.hist(df['MonthlyCharges'], alpha=0.7, edgecolor='grey')\n",
    "plt.title(\"Histogram of Monthly charges\")"
   ]
  },
  {
   "cell_type": "code",
   "execution_count": null,
   "id": "89a90174-391a-4298-9513-3c6f352d76c5",
   "metadata": {},
   "outputs": [],
   "source": [
    "plt.hist(df[\"Tenure\"], alpha=0.8, edgecolor= 'black')"
   ]
  },
  {
   "cell_type": "code",
   "execution_count": null,
   "id": "13f20269-7c90-4afd-818d-2dcee7abc8ca",
   "metadata": {},
   "outputs": [],
   "source": [
    "df[\"Gender\"]=df[\"Gender\"].map({\"Male\":1, \"Female\":0})\n",
    "X= df[[\"Age\", \"Gender\", \"Tenure\", \"MonthlyCharges\"]]\n",
    "X"
   ]
  },
  {
   "cell_type": "code",
   "execution_count": null,
   "id": "bf3d6c29-1db4-4edd-a0b9-9322287f19b0",
   "metadata": {},
   "outputs": [],
   "source": [
    "y= df[\"Churn\"]\n",
    "y.head()"
   ]
  },
  {
   "cell_type": "code",
   "execution_count": null,
   "id": "82c96139-3a7a-4103-9910-b7a478080106",
   "metadata": {},
   "outputs": [],
   "source": [
    "y= y.apply(lambda x: 1 if x==\"Yes\" else 0)\n",
    "y.value_counts()"
   ]
  },
  {
   "cell_type": "code",
   "execution_count": null,
   "id": "0cefa76f-4b7c-4c31-941c-18d780bb9bde",
   "metadata": {},
   "outputs": [],
   "source": [
    "y"
   ]
  },
  {
   "cell_type": "code",
   "execution_count": null,
   "id": "883400a2-f732-401a-9ff5-900292c871b9",
   "metadata": {},
   "outputs": [],
   "source": [
    "from sklearn.model_selection import train_test_split\n",
    "X_train, X_test, y_train, y_test= train_test_split(X,y, test_size= 0.2, random_state=42)"
   ]
  },
  {
   "cell_type": "code",
   "execution_count": null,
   "id": "de16e9e0-e3a5-4d12-890f-eb05faaae862",
   "metadata": {},
   "outputs": [],
   "source": [
    "from sklearn.preprocessing import StandardScaler\n",
    "scaler= StandardScaler()\n",
    "X_train.isna().sum()"
   ]
  },
  {
   "cell_type": "code",
   "execution_count": null,
   "id": "cb296193-3bdc-4788-9d0e-15556dd87263",
   "metadata": {},
   "outputs": [],
   "source": [
    "X_train_scaled = scaler.fit_transform(X_train)"
   ]
  },
  {
   "cell_type": "code",
   "execution_count": null,
   "id": "fd295c4b-21eb-4e6b-b6fb-ae1eca0eea9d",
   "metadata": {},
   "outputs": [],
   "source": [
    "import joblib"
   ]
  },
  {
   "cell_type": "code",
   "execution_count": null,
   "id": "a75df45a-b85d-422d-bc75-31ad5dd0b7bf",
   "metadata": {},
   "outputs": [],
   "source": []
  }
 ],
 "metadata": {
  "kernelspec": {
   "display_name": "Python 3",
   "language": "python",
   "name": "python3"
  },
  "language_info": {
   "codemirror_mode": {
    "name": "ipython",
    "version": 3
   },
   "file_extension": ".py",
   "mimetype": "text/x-python",
   "name": "python",
   "nbconvert_exporter": "python",
   "pygments_lexer": "ipython3",
   "version": "3.11.0"
  }
 },
 "nbformat": 4,
 "nbformat_minor": 5
}
